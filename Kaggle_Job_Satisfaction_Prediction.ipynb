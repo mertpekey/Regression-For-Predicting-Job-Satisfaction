{
  "nbformat": 4,
  "nbformat_minor": 0,
  "metadata": {
    "colab": {
      "name": "Kaggle_Job_Satisfaction_Prediction.ipynb",
      "provenance": [],
      "collapsed_sections": []
    },
    "kernelspec": {
      "display_name": "Python 3",
      "language": "python",
      "name": "python3"
    },
    "language_info": {
      "codemirror_mode": {
        "name": "ipython",
        "version": 3
      },
      "file_extension": ".py",
      "mimetype": "text/x-python",
      "name": "python",
      "nbconvert_exporter": "python",
      "pygments_lexer": "ipython3",
      "version": "3.8.3"
    }
  },
  "cells": [
    {
      "cell_type": "markdown",
      "metadata": {
        "id": "LPhP-JdFQ-B6"
      },
      "source": [
        "# Predicting Job Satisfaction With Kaggle Survey Data"
      ]
    },
    {
      "cell_type": "markdown",
      "metadata": {
        "id": "x4zcFsAgRAO4"
      },
      "source": [
        "### Contributers:\n",
        "\n",
        "### **Mert Pekey - Ali Yıldırım - Zeynep Berksöz**"
      ]
    },
    {
      "cell_type": "markdown",
      "metadata": {
        "id": "TWdBUQUWjF-k"
      },
      "source": [
        "Aim of this work is predicting job satisfaction of people who work in data science field.\n",
        "\n",
        "Dataset: Modified version of a Kaggle Survey Dataset\n",
        "\n",
        "Label: Job Satisfaction in the range of 1 to 10"
      ]
    },
    {
      "cell_type": "markdown",
      "metadata": {
        "id": "KWF36unrjF-k"
      },
      "source": [
        "### Mounting Google Drive"
      ]
    },
    {
      "cell_type": "code",
      "metadata": {
        "colab": {
          "base_uri": "https://localhost:8080/"
        },
        "id": "_AI3QckZQ-fg",
        "outputId": "3ff0b5b5-a576-4b9e-e420-dc481ed897ac"
      },
      "source": [
        "from google.colab import drive\n",
        "drive.mount('/content/drive')"
      ],
      "execution_count": 1,
      "outputs": [
        {
          "output_type": "stream",
          "text": [
            "Mounted at /content/drive\n"
          ],
          "name": "stdout"
        }
      ]
    },
    {
      "cell_type": "markdown",
      "metadata": {
        "id": "xsloggrYjF-m"
      },
      "source": [
        "### Importing Libraries"
      ]
    },
    {
      "cell_type": "code",
      "metadata": {
        "id": "7jes-vvkRE3i"
      },
      "source": [
        "import pandas as pd\n",
        "import numpy as np\n",
        "import matplotlib.pyplot as plt\n",
        "import seaborn as sns\n",
        "from sklearn.ensemble import RandomForestRegressor\n",
        "from sklearn.preprocessing import MaxAbsScaler\n",
        "from sklearn.preprocessing import MinMaxScaler\n",
        "from sklearn.preprocessing import RobustScaler\n",
        "from sklearn.preprocessing import StandardScaler\n",
        "from sklearn.preprocessing import Normalizer\n",
        "from sklearn.model_selection import cross_validate\n",
        "from sklearn.model_selection import GridSearchCV\n",
        "from sklearn.model_selection import train_test_split\n",
        "from sklearn.svm import SVR\n",
        "from sklearn.preprocessing import PolynomialFeatures\n",
        "from sklearn.pipeline import make_pipeline\n",
        "from sklearn.linear_model import LinearRegression\n",
        "from sklearn.metrics import mean_squared_error\n",
        "from sklearn import linear_model\n",
        "from sklearn import preprocessing\n",
        "from sklearn.svm import LinearSVR\n",
        "from sklearn.ensemble import RandomForestClassifier\n",
        "import xgboost as xgb\n",
        "from sklearn.decomposition import PCA\n",
        "from sklearn.tree import DecisionTreeRegressor\n",
        "from lightgbm import LGBMRegressor\n",
        "from sklearn.ensemble import GradientBoostingRegressor\n",
        "from sklearn.model_selection import StratifiedKFold\n",
        "from sklearn.ensemble import StackingRegressor\n",
        "from sklearn.model_selection import RepeatedKFold\n",
        "from sklearn.feature_selection import SelectKBest\n",
        "from sklearn.feature_selection import f_regression\n",
        "from sklearn.feature_selection import mutual_info_regression\n",
        "pd.set_option('display.max_columns', None)"
      ],
      "execution_count": 2,
      "outputs": []
    },
    {
      "cell_type": "markdown",
      "metadata": {
        "id": "wdet7kSPjF-m"
      },
      "source": [
        "### Quick Look To Data"
      ]
    },
    {
      "cell_type": "code",
      "metadata": {
        "id": "fIfhdFTpRE5Y"
      },
      "source": [
        "train = pd.read_excel('/content/drive/MyDrive/ContentCreation/train.xlsx')\n",
        "test = pd.read_excel('/content/drive/MyDrive/ContentCreation/test.xlsx')\n",
        "explanation = pd.read_csv('/content/drive/MyDrive/ContentCreation/dataset_explanation.csv',delimiter = ';')"
      ],
      "execution_count": 3,
      "outputs": []
    },
    {
      "cell_type": "code",
      "metadata": {
        "colab": {
          "base_uri": "https://localhost:8080/"
        },
        "id": "1j7GH5lwRE6-",
        "outputId": "404fc3e2-18ec-40bb-fb86-d7febbcacd93"
      },
      "source": [
        "print('training shape is', train.shape)"
      ],
      "execution_count": 4,
      "outputs": [
        {
          "output_type": "stream",
          "text": [
            "training shape is (5529, 54)\n"
          ],
          "name": "stdout"
        }
      ]
    },
    {
      "cell_type": "code",
      "metadata": {
        "colab": {
          "base_uri": "https://localhost:8080/",
          "height": 298
        },
        "id": "43NlzSy0RE8s",
        "outputId": "ac98e56f-3e0d-4135-b88d-fe71e991b53a"
      },
      "source": [
        "train.head(3)"
      ],
      "execution_count": 5,
      "outputs": [
        {
          "output_type": "execute_result",
          "data": {
            "text/html": [
              "<div>\n",
              "<style scoped>\n",
              "    .dataframe tbody tr th:only-of-type {\n",
              "        vertical-align: middle;\n",
              "    }\n",
              "\n",
              "    .dataframe tbody tr th {\n",
              "        vertical-align: top;\n",
              "    }\n",
              "\n",
              "    .dataframe thead th {\n",
              "        text-align: right;\n",
              "    }\n",
              "</style>\n",
              "<table border=\"1\" class=\"dataframe\">\n",
              "  <thead>\n",
              "    <tr style=\"text-align: right;\">\n",
              "      <th></th>\n",
              "      <th>ID</th>\n",
              "      <th>GenderSelect</th>\n",
              "      <th>Country</th>\n",
              "      <th>Age</th>\n",
              "      <th>EmploymentStatus</th>\n",
              "      <th>CodeWriter</th>\n",
              "      <th>CurrentJobTitleSelect</th>\n",
              "      <th>TitleFit</th>\n",
              "      <th>CurrentEmployerType</th>\n",
              "      <th>MLToolNextYearSelect</th>\n",
              "      <th>MLMethodNextYearSelect</th>\n",
              "      <th>LanguageRecommendationSelect</th>\n",
              "      <th>LearningPlatformUsefulnessBlogs</th>\n",
              "      <th>LearningPlatformUsefulnessKaggle</th>\n",
              "      <th>LearningPlatformUsefulnessCourses</th>\n",
              "      <th>LearningPlatformUsefulnessProjects</th>\n",
              "      <th>LearningPlatformUsefulnessSO</th>\n",
              "      <th>LearningPlatformUsefulnessTextbook</th>\n",
              "      <th>LearningPlatformUsefulnessYouTube</th>\n",
              "      <th>DataScienceIdentitySelect</th>\n",
              "      <th>FormalEducation</th>\n",
              "      <th>MajorSelect</th>\n",
              "      <th>Tenure</th>\n",
              "      <th>PastJobTitlesSelect</th>\n",
              "      <th>MLSkillsSelect</th>\n",
              "      <th>MLTechniquesSelect</th>\n",
              "      <th>EmployerIndustry</th>\n",
              "      <th>EmployerSize</th>\n",
              "      <th>WorkProductionFrequency</th>\n",
              "      <th>WorkAlgorithmsSelect</th>\n",
              "      <th>WorkToolsFrequencyPython</th>\n",
              "      <th>WorkToolsFrequencyR</th>\n",
              "      <th>WorkToolsFrequencySQL</th>\n",
              "      <th>WorkMethodsFrequencyCross-Validation</th>\n",
              "      <th>WorkMethodsFrequencyDataVisualization</th>\n",
              "      <th>WorkMethodsFrequencyDecisionTrees</th>\n",
              "      <th>WorkMethodsFrequencyLogisticRegression</th>\n",
              "      <th>WorkMethodsFrequencyNeuralNetworks</th>\n",
              "      <th>WorkMethodsFrequencyPCA</th>\n",
              "      <th>WorkMethodsFrequencyRandomForests</th>\n",
              "      <th>WorkMethodsFrequencyTimeSeriesAnalysis</th>\n",
              "      <th>WorkChallengeFrequencyPolitics</th>\n",
              "      <th>WorkChallengeFrequencyUnusedResults</th>\n",
              "      <th>WorkChallengeFrequencyDirtyData</th>\n",
              "      <th>WorkChallengeFrequencyExplaining</th>\n",
              "      <th>WorkChallengeFrequencyTalent</th>\n",
              "      <th>WorkChallengeFrequencyClarity</th>\n",
              "      <th>WorkChallengeFrequencyDataAccess</th>\n",
              "      <th>CompensationScore</th>\n",
              "      <th>WorkDataVisualizations</th>\n",
              "      <th>WorkInternalVsExternalTools</th>\n",
              "      <th>WorkMLTeamSeatSelect</th>\n",
              "      <th>RemoteWork</th>\n",
              "      <th>JobSatisfaction</th>\n",
              "    </tr>\n",
              "  </thead>\n",
              "  <tbody>\n",
              "    <tr>\n",
              "      <th>0</th>\n",
              "      <td>1</td>\n",
              "      <td>Male</td>\n",
              "      <td>Pakistan</td>\n",
              "      <td>28.0</td>\n",
              "      <td>Independent contractor, freelancer, or self-em...</td>\n",
              "      <td>Yes</td>\n",
              "      <td>Software Developer/Software Engineer</td>\n",
              "      <td>Fine</td>\n",
              "      <td>Self-employed</td>\n",
              "      <td>Python</td>\n",
              "      <td>Link Analysis</td>\n",
              "      <td>SAS</td>\n",
              "      <td>NaN</td>\n",
              "      <td>NaN</td>\n",
              "      <td>Very useful</td>\n",
              "      <td>NaN</td>\n",
              "      <td>NaN</td>\n",
              "      <td>NaN</td>\n",
              "      <td>Not Useful</td>\n",
              "      <td>Sort of (Explain more)</td>\n",
              "      <td>Bachelor's degree</td>\n",
              "      <td>Information technology, networking, or system ...</td>\n",
              "      <td>3 to 5 years</td>\n",
              "      <td>Programmer,Software Developer/Software Engineer</td>\n",
              "      <td>Survival Analysis</td>\n",
              "      <td>Hidden Markov Models HMMs,Logistic Regression,...</td>\n",
              "      <td>Technology</td>\n",
              "      <td>NaN</td>\n",
              "      <td>Always</td>\n",
              "      <td>Random Forests</td>\n",
              "      <td>Often</td>\n",
              "      <td>NaN</td>\n",
              "      <td>Often</td>\n",
              "      <td>NaN</td>\n",
              "      <td>NaN</td>\n",
              "      <td>NaN</td>\n",
              "      <td>NaN</td>\n",
              "      <td>NaN</td>\n",
              "      <td>NaN</td>\n",
              "      <td>Often</td>\n",
              "      <td>NaN</td>\n",
              "      <td>NaN</td>\n",
              "      <td>NaN</td>\n",
              "      <td>Often</td>\n",
              "      <td>NaN</td>\n",
              "      <td>NaN</td>\n",
              "      <td>NaN</td>\n",
              "      <td>NaN</td>\n",
              "      <td>8.0</td>\n",
              "      <td>51-75% of projects</td>\n",
              "      <td>Approximately half internal and half external</td>\n",
              "      <td>Standalone Team</td>\n",
              "      <td>NaN</td>\n",
              "      <td>4</td>\n",
              "    </tr>\n",
              "    <tr>\n",
              "      <th>1</th>\n",
              "      <td>2</td>\n",
              "      <td>Male</td>\n",
              "      <td>Mexico</td>\n",
              "      <td>26.0</td>\n",
              "      <td>Employed full-time</td>\n",
              "      <td>Yes</td>\n",
              "      <td>Computer Scientist</td>\n",
              "      <td>Poorly</td>\n",
              "      <td>Employed by a company that doesn't perform adv...</td>\n",
              "      <td>Python</td>\n",
              "      <td>Deep learning</td>\n",
              "      <td>Python</td>\n",
              "      <td>Somewhat useful</td>\n",
              "      <td>Very useful</td>\n",
              "      <td>NaN</td>\n",
              "      <td>NaN</td>\n",
              "      <td>NaN</td>\n",
              "      <td>Very useful</td>\n",
              "      <td>NaN</td>\n",
              "      <td>No</td>\n",
              "      <td>Master's degree</td>\n",
              "      <td>Computer Science</td>\n",
              "      <td>1 to 2 years</td>\n",
              "      <td>Computer Scientist,Programmer,Researcher</td>\n",
              "      <td>Natural Language Processing,Supervised Machine...</td>\n",
              "      <td>Bayesian Techniques,Support Vector Machines (S...</td>\n",
              "      <td>Government</td>\n",
              "      <td>1,000 to 4,999 employees</td>\n",
              "      <td>Rarely</td>\n",
              "      <td>Bayesian Techniques,SVMs</td>\n",
              "      <td>Sometimes</td>\n",
              "      <td>Often</td>\n",
              "      <td>NaN</td>\n",
              "      <td>Sometimes</td>\n",
              "      <td>Most of the time</td>\n",
              "      <td>NaN</td>\n",
              "      <td>NaN</td>\n",
              "      <td>NaN</td>\n",
              "      <td>NaN</td>\n",
              "      <td>NaN</td>\n",
              "      <td>Rarely</td>\n",
              "      <td>NaN</td>\n",
              "      <td>NaN</td>\n",
              "      <td>NaN</td>\n",
              "      <td>NaN</td>\n",
              "      <td>Often</td>\n",
              "      <td>NaN</td>\n",
              "      <td>NaN</td>\n",
              "      <td>NaN</td>\n",
              "      <td>100% of projects</td>\n",
              "      <td>More internal than external</td>\n",
              "      <td>Business Department</td>\n",
              "      <td>NaN</td>\n",
              "      <td>7</td>\n",
              "    </tr>\n",
              "    <tr>\n",
              "      <th>2</th>\n",
              "      <td>3</td>\n",
              "      <td>Female</td>\n",
              "      <td>United States</td>\n",
              "      <td>34.0</td>\n",
              "      <td>Employed full-time</td>\n",
              "      <td>Yes</td>\n",
              "      <td>Data Analyst</td>\n",
              "      <td>Fine</td>\n",
              "      <td>Employed by government</td>\n",
              "      <td>TensorFlow</td>\n",
              "      <td>Deep learning</td>\n",
              "      <td>Python</td>\n",
              "      <td>Very useful</td>\n",
              "      <td>NaN</td>\n",
              "      <td>Somewhat useful</td>\n",
              "      <td>NaN</td>\n",
              "      <td>NaN</td>\n",
              "      <td>Somewhat useful</td>\n",
              "      <td>Somewhat useful</td>\n",
              "      <td>Sort of (Explain more)</td>\n",
              "      <td>Doctoral degree</td>\n",
              "      <td>Mathematics or statistics</td>\n",
              "      <td>6 to 10 years</td>\n",
              "      <td>Engineer,Operations Research Practitioner,Pred...</td>\n",
              "      <td>Supervised Machine Learning (Tabular Data)</td>\n",
              "      <td>Ensemble Methods,Evolutionary Approaches,Neura...</td>\n",
              "      <td>Government</td>\n",
              "      <td>1,000 to 4,999 employees</td>\n",
              "      <td>Rarely</td>\n",
              "      <td>Neural Networks,Regression/Logistic Regression</td>\n",
              "      <td>Sometimes</td>\n",
              "      <td>Often</td>\n",
              "      <td>NaN</td>\n",
              "      <td>Often</td>\n",
              "      <td>Often</td>\n",
              "      <td>NaN</td>\n",
              "      <td>NaN</td>\n",
              "      <td>Often</td>\n",
              "      <td>Sometimes</td>\n",
              "      <td>NaN</td>\n",
              "      <td>Sometimes</td>\n",
              "      <td>NaN</td>\n",
              "      <td>Sometimes</td>\n",
              "      <td>NaN</td>\n",
              "      <td>NaN</td>\n",
              "      <td>Sometimes</td>\n",
              "      <td>NaN</td>\n",
              "      <td>Most of the time</td>\n",
              "      <td>2.0</td>\n",
              "      <td>10-25% of projects</td>\n",
              "      <td>More internal than external</td>\n",
              "      <td>Other</td>\n",
              "      <td>Rarely</td>\n",
              "      <td>6</td>\n",
              "    </tr>\n",
              "  </tbody>\n",
              "</table>\n",
              "</div>"
            ],
            "text/plain": [
              "   ID GenderSelect        Country   Age  \\\n",
              "0   1         Male       Pakistan  28.0   \n",
              "1   2         Male         Mexico  26.0   \n",
              "2   3       Female  United States  34.0   \n",
              "\n",
              "                                    EmploymentStatus CodeWriter  \\\n",
              "0  Independent contractor, freelancer, or self-em...        Yes   \n",
              "1                                 Employed full-time        Yes   \n",
              "2                                 Employed full-time        Yes   \n",
              "\n",
              "                  CurrentJobTitleSelect TitleFit  \\\n",
              "0  Software Developer/Software Engineer     Fine   \n",
              "1                    Computer Scientist   Poorly   \n",
              "2                          Data Analyst     Fine   \n",
              "\n",
              "                                 CurrentEmployerType MLToolNextYearSelect  \\\n",
              "0                                      Self-employed               Python   \n",
              "1  Employed by a company that doesn't perform adv...               Python   \n",
              "2                             Employed by government           TensorFlow   \n",
              "\n",
              "  MLMethodNextYearSelect LanguageRecommendationSelect  \\\n",
              "0          Link Analysis                          SAS   \n",
              "1          Deep learning                       Python   \n",
              "2          Deep learning                       Python   \n",
              "\n",
              "  LearningPlatformUsefulnessBlogs LearningPlatformUsefulnessKaggle  \\\n",
              "0                             NaN                              NaN   \n",
              "1                 Somewhat useful                      Very useful   \n",
              "2                     Very useful                              NaN   \n",
              "\n",
              "  LearningPlatformUsefulnessCourses LearningPlatformUsefulnessProjects  \\\n",
              "0                       Very useful                                NaN   \n",
              "1                               NaN                                NaN   \n",
              "2                   Somewhat useful                                NaN   \n",
              "\n",
              "  LearningPlatformUsefulnessSO LearningPlatformUsefulnessTextbook  \\\n",
              "0                          NaN                                NaN   \n",
              "1                          NaN                        Very useful   \n",
              "2                          NaN                    Somewhat useful   \n",
              "\n",
              "  LearningPlatformUsefulnessYouTube DataScienceIdentitySelect  \\\n",
              "0                        Not Useful    Sort of (Explain more)   \n",
              "1                               NaN                        No   \n",
              "2                   Somewhat useful    Sort of (Explain more)   \n",
              "\n",
              "     FormalEducation                                        MajorSelect  \\\n",
              "0  Bachelor's degree  Information technology, networking, or system ...   \n",
              "1    Master's degree                                   Computer Science   \n",
              "2    Doctoral degree                          Mathematics or statistics   \n",
              "\n",
              "          Tenure                                PastJobTitlesSelect  \\\n",
              "0   3 to 5 years    Programmer,Software Developer/Software Engineer   \n",
              "1   1 to 2 years           Computer Scientist,Programmer,Researcher   \n",
              "2  6 to 10 years  Engineer,Operations Research Practitioner,Pred...   \n",
              "\n",
              "                                      MLSkillsSelect  \\\n",
              "0                                  Survival Analysis   \n",
              "1  Natural Language Processing,Supervised Machine...   \n",
              "2         Supervised Machine Learning (Tabular Data)   \n",
              "\n",
              "                                  MLTechniquesSelect EmployerIndustry  \\\n",
              "0  Hidden Markov Models HMMs,Logistic Regression,...       Technology   \n",
              "1  Bayesian Techniques,Support Vector Machines (S...       Government   \n",
              "2  Ensemble Methods,Evolutionary Approaches,Neura...       Government   \n",
              "\n",
              "               EmployerSize WorkProductionFrequency  \\\n",
              "0                       NaN                  Always   \n",
              "1  1,000 to 4,999 employees                  Rarely   \n",
              "2  1,000 to 4,999 employees                  Rarely   \n",
              "\n",
              "                             WorkAlgorithmsSelect WorkToolsFrequencyPython  \\\n",
              "0                                  Random Forests                    Often   \n",
              "1                        Bayesian Techniques,SVMs                Sometimes   \n",
              "2  Neural Networks,Regression/Logistic Regression                Sometimes   \n",
              "\n",
              "  WorkToolsFrequencyR WorkToolsFrequencySQL  \\\n",
              "0                 NaN                 Often   \n",
              "1               Often                   NaN   \n",
              "2               Often                   NaN   \n",
              "\n",
              "  WorkMethodsFrequencyCross-Validation WorkMethodsFrequencyDataVisualization  \\\n",
              "0                                  NaN                                   NaN   \n",
              "1                            Sometimes                      Most of the time   \n",
              "2                                Often                                 Often   \n",
              "\n",
              "  WorkMethodsFrequencyDecisionTrees WorkMethodsFrequencyLogisticRegression  \\\n",
              "0                               NaN                                    NaN   \n",
              "1                               NaN                                    NaN   \n",
              "2                               NaN                                    NaN   \n",
              "\n",
              "  WorkMethodsFrequencyNeuralNetworks WorkMethodsFrequencyPCA  \\\n",
              "0                                NaN                     NaN   \n",
              "1                                NaN                     NaN   \n",
              "2                              Often               Sometimes   \n",
              "\n",
              "  WorkMethodsFrequencyRandomForests WorkMethodsFrequencyTimeSeriesAnalysis  \\\n",
              "0                             Often                                    NaN   \n",
              "1                               NaN                                 Rarely   \n",
              "2                               NaN                              Sometimes   \n",
              "\n",
              "  WorkChallengeFrequencyPolitics WorkChallengeFrequencyUnusedResults  \\\n",
              "0                            NaN                                 NaN   \n",
              "1                            NaN                                 NaN   \n",
              "2                            NaN                           Sometimes   \n",
              "\n",
              "  WorkChallengeFrequencyDirtyData WorkChallengeFrequencyExplaining  \\\n",
              "0                           Often                              NaN   \n",
              "1                             NaN                              NaN   \n",
              "2                             NaN                              NaN   \n",
              "\n",
              "  WorkChallengeFrequencyTalent WorkChallengeFrequencyClarity  \\\n",
              "0                          NaN                           NaN   \n",
              "1                        Often                           NaN   \n",
              "2                    Sometimes                           NaN   \n",
              "\n",
              "  WorkChallengeFrequencyDataAccess  CompensationScore WorkDataVisualizations  \\\n",
              "0                              NaN                8.0     51-75% of projects   \n",
              "1                              NaN                NaN       100% of projects   \n",
              "2                 Most of the time                2.0     10-25% of projects   \n",
              "\n",
              "                     WorkInternalVsExternalTools WorkMLTeamSeatSelect  \\\n",
              "0  Approximately half internal and half external      Standalone Team   \n",
              "1                    More internal than external  Business Department   \n",
              "2                    More internal than external                Other   \n",
              "\n",
              "  RemoteWork  JobSatisfaction  \n",
              "0        NaN                4  \n",
              "1        NaN                7  \n",
              "2     Rarely                6  "
            ]
          },
          "metadata": {
            "tags": []
          },
          "execution_count": 5
        }
      ]
    },
    {
      "cell_type": "markdown",
      "metadata": {
        "id": "qv_CmlGVjF-n"
      },
      "source": [
        "## - Preprocessing"
      ]
    },
    {
      "cell_type": "markdown",
      "metadata": {
        "id": "GDEe1hY0jF-o"
      },
      "source": [
        "### Missing Values Imputed as \"na\""
      ]
    },
    {
      "cell_type": "markdown",
      "metadata": {
        "id": "QwebbGYBjF-o"
      },
      "source": [
        "NaN Values are replaced with \"na\" to handle later after analyze data to know how to handle with them.\n",
        "\n",
        "**Note:** Analysis of the data for imputing missing values are not in this notebook."
      ]
    },
    {
      "cell_type": "code",
      "metadata": {
        "id": "q9ZSpvXuRE-a"
      },
      "source": [
        "train = train.fillna('na')\n",
        "test = test.fillna('na')"
      ],
      "execution_count": 6,
      "outputs": []
    },
    {
      "cell_type": "markdown",
      "metadata": {
        "id": "E_S8ypwWjF-o"
      },
      "source": [
        "### Removing Outliers From Age Column"
      ]
    },
    {
      "cell_type": "code",
      "metadata": {
        "id": "ebykcSnMjF-o"
      },
      "source": [
        "train['Age'] = train['Age'].replace('na',train[train['Age']!='na']['Age'].mean())\n",
        "train = train[(train['Age']<65) & (train['Age'] >18)]\n",
        "test['Age'] = test['Age'].replace('na',test[test['Age']!='na']['Age'].mean())"
      ],
      "execution_count": 8,
      "outputs": []
    },
    {
      "cell_type": "markdown",
      "metadata": {
        "id": "rEdtYb-djF-p"
      },
      "source": [
        "### Handling With Ordinal Features"
      ]
    },
    {
      "cell_type": "code",
      "metadata": {
        "id": "hUqh60H7RFDW"
      },
      "source": [
        "freq_map = {'na': 0, 'Rarely' : 1, 'Sometimes': 2, 'Often': 3,'Most of the time': 4}\n",
        "train.iloc[:,30:48] = train.iloc[:,30:48].replace(freq_map)\n",
        "train.iloc[:,30:48] = train.iloc[:,30:48].astype('float64')\n",
        "freq_map = {'na': 0, 'Rarely' : 1, 'Sometimes': 2, 'Often': 3,'Most of the time': 4}\n",
        "test.iloc[:,30:48] = test.iloc[:,30:48].replace(freq_map)\n",
        "test.iloc[:,30:48] = test.iloc[:,30:48].astype('float64')\n",
        "\n",
        "\n",
        "freq_map2 = {'na': 0, 'Not Useful' : 1, 'Somewhat useful': 2,'Very useful': 3}\n",
        "train.iloc[:,12:19] = train.iloc[:,12:19].replace(freq_map2)\n",
        "train.iloc[:,12:19] = train.iloc[:,12:19].astype('float64')\n",
        "test.iloc[:,12:19] = test.iloc[:,12:19].replace(freq_map2)\n",
        "test.iloc[:,12:19] = test.iloc[:,12:19].astype('float64')\n",
        "\n",
        "\n",
        "freq_map3 = {'na': 0, 'None' : 0, 'Less than 10% of projects': 1,\n",
        "            '10-25% of projects': 2,'26-50% of projects': 3,'51-75% of projects': 4,'76-99% of projects': 5,'100% of projects': 6}\n",
        "train['WorkDataVisualizations'] = train['WorkDataVisualizations'].replace(freq_map3)\n",
        "train['WorkDataVisualizations'] = train['WorkDataVisualizations'].astype('float64')\n",
        "test['WorkDataVisualizations'] = test['WorkDataVisualizations'].replace(freq_map3)\n",
        "test['WorkDataVisualizations'] = test['WorkDataVisualizations'].astype('float64')\n",
        "\n",
        "\n",
        "freq_map4 = {'na': 0, 'Poorly' : 1, 'Fine': 2,'Perfectly': 3}\n",
        "train['TitleFit'] = train['TitleFit'].replace(freq_map4)\n",
        "train['TitleFit'] = train['TitleFit'].astype('float64')\n",
        "test['TitleFit'] = test['TitleFit'].replace(freq_map4)\n",
        "test['TitleFit'] = test['TitleFit'].astype('float64')\n",
        "\n",
        "\n",
        "freq_map5 = {'na': 0, \"I don't write code to analyze data\" : 0, 'Less than a year': 1,\n",
        "            '1 to 2 years': 2,'3 to 5 years': 3,'6 to 10 years': 4,'More than 10 years': 5}\n",
        "train['Tenure'] = train['Tenure'].replace(freq_map5)\n",
        "train['Tenure'] = train['Tenure'].astype('float64')\n",
        "test['Tenure'] = test['Tenure'].replace(freq_map5)\n",
        "test['Tenure'] = test['Tenure'].astype('float64')\n",
        "\n",
        "\n",
        "freq_map6 = {'na': 0, \"I don't know\" : 0, 'I prefer not to answer': 0,\n",
        "            'Fewer than 10 employees': 1,'10 to 19 employees': 1,'20 to 99 employees': 1,'100 to 499 employees':2 ,'500 to 999 employees': 3,\n",
        "            '1,000 to 4,999 employees':4,'5,000 to 9,999 employees':5,'10,000 or more employees':5}\n",
        "train['EmployerSize'] = train['EmployerSize'].replace(freq_map6)\n",
        "train['EmployerSize'] = train['EmployerSize'].astype('float64')\n",
        "test['EmployerSize'] = test['EmployerSize'].replace(freq_map6)\n",
        "test['EmployerSize'] = test['EmployerSize'].astype('float64')\n",
        "\n",
        "\n",
        "freq_map7 = {'na': 0, \"Don't know\" : 0, 'Never': 1,\n",
        "            'Rarely': 2,'Sometimes': 3,'Most of the time': 4,'Always': 5}\n",
        "train[['WorkProductionFrequency','RemoteWork']] = train[['WorkProductionFrequency','RemoteWork']].replace(freq_map7)\n",
        "train[['WorkProductionFrequency','RemoteWork']] = train[['WorkProductionFrequency','RemoteWork']].astype('float64')\n",
        "test[['WorkProductionFrequency','RemoteWork']] = test[['WorkProductionFrequency','RemoteWork']].replace(freq_map7)\n",
        "test[['WorkProductionFrequency','RemoteWork']] = test[['WorkProductionFrequency','RemoteWork']].astype('float64')"
      ],
      "execution_count": 9,
      "outputs": []
    },
    {
      "cell_type": "markdown",
      "metadata": {
        "id": "a0kAuXaVjF-p"
      },
      "source": [
        "### Binning Values of Some Features (This part added after analyzing the data)"
      ]
    },
    {
      "cell_type": "code",
      "metadata": {
        "id": "sED9lN47jF-q"
      },
      "source": [
        "train['WorkInternalVsExternalTools'] = train['WorkInternalVsExternalTools'].replace('na','Do not know')\n",
        "test['WorkInternalVsExternalTools'] = test['WorkInternalVsExternalTools'].replace('na','Do not know')\n",
        "\n",
        "\n",
        "train['WorkMLTeamSeatSelect'] = train['WorkMLTeamSeatSelect'].replace('na','Other')\n",
        "test['WorkMLTeamSeatSelect'] = test['WorkMLTeamSeatSelect'].replace('na','Other')\n",
        "\n",
        "\n",
        "train['EmployerIndustry'] = train['EmployerIndustry'].replace('na','Other')\n",
        "test['EmployerIndustry'] = test['EmployerIndustry'].replace('na','Other')\n",
        "\n",
        "\n",
        "freq_map8 = {'na': 'Other', 'A different identity' : 'Other', 'Non-binary, genderqueer, or gender non-conforming': 'Other'}\n",
        "train['GenderSelect'] = train['GenderSelect'].replace(freq_map8)\n",
        "test['GenderSelect'] = test['GenderSelect'].replace(freq_map8)\n",
        "\n",
        "\n",
        "train['PastJobTitlesSelect'] = train['PastJobTitlesSelect'].replace('na',\"I haven't started working yet\")\n",
        "test['PastJobTitlesSelect'] = test['PastJobTitlesSelect'].replace('na',\"I haven't started working yet\")\n",
        "\n",
        "mydictML = dict(train['MLToolNextYearSelect'].value_counts())\n",
        "for word, count in mydictML.items():\n",
        "    if word == 'na':\n",
        "         train['MLToolNextYearSelect'] = train['MLToolNextYearSelect'].replace('na',\"I don't plan on learning a new tool/technology\")\n",
        "    elif word != 'TensorFlow' and word != 'Python' and word != 'Spark / MLlib' and word != 'R' and word != 'na' and word != 'Other' and word != \"I don't plan on learning a new tool/technology\":\n",
        "         train['MLToolNextYearSelect'] = train['MLToolNextYearSelect'].replace(word, 'Other')           \n",
        "mydictML = dict(test['MLToolNextYearSelect'].value_counts())\n",
        "for word, count in mydictML.items():\n",
        "    if word == 'na':\n",
        "         test['MLToolNextYearSelect'] = test['MLToolNextYearSelect'].replace('na',\"I don't plan on learning a new tool/technology\")\n",
        "    elif word != 'TensorFlow' and word != 'Python' and word != 'Spark / MLlib' and word != 'R' and word != 'na' and word != 'Other' and word != \"I don't plan on learning a new tool/technology\":\n",
        "         test['MLToolNextYearSelect'] = test['MLToolNextYearSelect'].replace(word, 'Other')\n",
        "\n",
        "\n",
        "\n",
        "\n",
        "mydictML = dict(train['MLMethodNextYearSelect'].value_counts())\n",
        "for word, count in mydictML.items():\n",
        "    if word == 'na':\n",
        "         train['MLMethodNextYearSelect'] = train['MLMethodNextYearSelect'].replace('na',\"I don't plan on learning a new ML/DS method\")\n",
        "    elif word != 'Deep learning' and word != 'Neural Nets' and word != 'Time Series Analysis' and word != 'Bayesian Methods' and word != 'na' and word != 'Other' and word != \"Text Mining\" and word != \"Genetic & Evolutionary Algorithms\" and word != \"I don't plan on learning a new ML/DS method\":\n",
        "         train['MLMethodNextYearSelect'] = train['MLMethodNextYearSelect'].replace(word, 'Other')           \n",
        "mydictML = dict(test['MLMethodNextYearSelect'].value_counts())\n",
        "for word, count in mydictML.items():\n",
        "    if word == 'na':\n",
        "         test['MLMethodNextYearSelect'] = test['MLMethodNextYearSelect'].replace('na',\"I don't plan on learning a new ML/DS method\")\n",
        "    elif word != 'Deep learning' and word != 'Neural Nets' and word != 'Time Series Analysis' and word != 'Bayesian Methods' and word != 'na' and word != 'Other' and word != \"Text Mining\" and word != \"Genetic & Evolutionary Algorithms\" and word != \"I don't plan on learning a new ML/DS method\":\n",
        "         test['MLMethodNextYearSelect'] = test['MLMethodNextYearSelect'].replace(word, 'Other')\n",
        "\n",
        "\n",
        "\n",
        "mydictML = dict(train['LanguageRecommendationSelect'].value_counts())\n",
        "for word, count in mydictML.items():\n",
        "    if word == 'na':\n",
        "         train['LanguageRecommendationSelect'] = train['LanguageRecommendationSelect'].replace('na',\"Other\")\n",
        "    elif word != 'Python' and word != 'R' and word != 'SQL' and word != 'na' and word != 'Other':\n",
        "         train['LanguageRecommendationSelect'] = train['LanguageRecommendationSelect'].replace(word, 'Other')\n",
        "mydictML = dict(test['LanguageRecommendationSelect'].value_counts())\n",
        "for word, count in mydictML.items():\n",
        "    if word == 'na':\n",
        "         test['LanguageRecommendationSelect'] = test['LanguageRecommendationSelect'].replace('na',\"Other\")\n",
        "    elif word != 'Python' and word != 'R' and word != 'SQL' and word != 'na' and word != 'Other':\n",
        "         test['LanguageRecommendationSelect'] = test['LanguageRecommendationSelect'].replace(word, 'Other')\n",
        "\n",
        "\n",
        "\n",
        "mydictML = dict(train['FormalEducation'].value_counts())\n",
        "for word, count in mydictML.items():\n",
        "    if word == 'I did not complete any formal education past high school' or word == 'I prefer not to answer' or word == 'na':\n",
        "         train['FormalEducation'] = train['FormalEducation'].replace(word, 'Other')      \n",
        "mydictML = dict(test['FormalEducation'].value_counts())\n",
        "for word, count in mydictML.items():\n",
        "    if word == 'I did not complete any formal education past high school' or word == 'I prefer not to answer' or word == 'na':\n",
        "         test['FormalEducation'] = train['FormalEducation'].replace(word, 'Other')\n",
        "            \n",
        "train['MajorSelect'] = train['MajorSelect'].replace('na', 'Other')\n",
        "train['MajorSelect'] = train['MajorSelect'].replace('Psychology', 'A social science')\n",
        "train['MajorSelect'] = train['MajorSelect'].replace('A humanities discipline', 'A social science')\n",
        "train['MajorSelect'] = train['MajorSelect'].replace('Fine arts or performing arts', 'A social science')\n",
        "train['MajorSelect'] = train['MajorSelect'].replace('Management information systems', 'Information technology, networking, or system administration')\n",
        "train['MajorSelect'] = train['MajorSelect'].replace('A health science', 'Basic Science')\n",
        "train['MajorSelect'] = train['MajorSelect'].replace('Physics', 'Basic Science')\n",
        "train['MajorSelect'] = train['MajorSelect'].replace('Biology', 'Basic Science')\n",
        "train['MajorSelect'] = train['MajorSelect'].replace('I never declared a major', 'Other')\n",
        "\n",
        "test['MajorSelect'] = test['MajorSelect'].replace('na', 'Other')\n",
        "test['MajorSelect'] = test['MajorSelect'].replace('Psychology', 'A social science')\n",
        "test['MajorSelect'] = test['MajorSelect'].replace('A humanities discipline', 'A social science')\n",
        "test['MajorSelect'] = test['MajorSelect'].replace('Fine arts or performing arts', 'A social science')\n",
        "test['MajorSelect'] = test['MajorSelect'].replace('Management information systems', 'Information technology, networking, or system administration')\n",
        "test['MajorSelect'] = test['MajorSelect'].replace('A health science', 'Basic Science')\n",
        "test['MajorSelect'] = test['MajorSelect'].replace('Physics', 'Basic Science')\n",
        "test['MajorSelect'] = test['MajorSelect'].replace('Biology', 'Basic Science')\n",
        "test['MajorSelect'] = test['MajorSelect'].replace('I never declared a major', 'Other')\n",
        "\n",
        "\n",
        "\n",
        "\n",
        "train['CurrentJobTitleSelect'] = train['CurrentJobTitleSelect'].replace('na', 'Other')\n",
        "train['CurrentJobTitleSelect'] = train['CurrentJobTitleSelect'].replace('Researcher', 'Scientist/Researcher')\n",
        "train['CurrentJobTitleSelect'] = train['CurrentJobTitleSelect'].replace('Engineer', 'Other')\n",
        "train['CurrentJobTitleSelect'] = train['CurrentJobTitleSelect'].replace('Statistician', 'Other')\n",
        "train['CurrentJobTitleSelect'] = train['CurrentJobTitleSelect'].replace('Computer Scientist', 'Other')\n",
        "train['CurrentJobTitleSelect'] = train['CurrentJobTitleSelect'].replace('Programmer', 'Other')\n",
        "train['CurrentJobTitleSelect'] = train['CurrentJobTitleSelect'].replace('Predictive Modeler', 'Other')\n",
        "train['CurrentJobTitleSelect'] = train['CurrentJobTitleSelect'].replace('DBA/Database Engineer', 'Other')\n",
        "train['CurrentJobTitleSelect'] = train['CurrentJobTitleSelect'].replace('Operations Research Practitioner', 'Other')\n",
        "train['CurrentJobTitleSelect'] = train['CurrentJobTitleSelect'].replace('Data Miner', 'Other')\n",
        "\n",
        "test['CurrentJobTitleSelect'] = test['CurrentJobTitleSelect'].replace('na', 'Other')\n",
        "test['CurrentJobTitleSelect'] = test['CurrentJobTitleSelect'].replace('Researcher', 'Scientist/Researcher')\n",
        "test['CurrentJobTitleSelect'] = test['CurrentJobTitleSelect'].replace('Engineer', 'Other')\n",
        "test['CurrentJobTitleSelect'] = test['CurrentJobTitleSelect'].replace('Statistician', 'Other')\n",
        "test['CurrentJobTitleSelect'] = test['CurrentJobTitleSelect'].replace('Computer Scientist', 'Other')\n",
        "test['CurrentJobTitleSelect'] = test['CurrentJobTitleSelect'].replace('Programmer', 'Other')\n",
        "test['CurrentJobTitleSelect'] = test['CurrentJobTitleSelect'].replace('Predictive Modeler', 'Other')\n",
        "test['CurrentJobTitleSelect'] = test['CurrentJobTitleSelect'].replace('DBA/Database Engineer', 'Other')\n",
        "test['CurrentJobTitleSelect'] = test['CurrentJobTitleSelect'].replace('Operations Research Practitioner', 'Other')\n",
        "test['CurrentJobTitleSelect'] = test['CurrentJobTitleSelect'].replace('Data Miner', 'Other')\n",
        "\n",
        "\n",
        "\n",
        "train['EmployerIndustry'] = train['EmployerIndustry'].replace('Internet-based', 'Technology')\n",
        "train['EmployerIndustry'] = train['EmployerIndustry'].replace('Telecommunications', 'Technology')\n",
        "train['EmployerIndustry'] = train['EmployerIndustry'].replace('Pharmaceutical', 'Other')\n",
        "train['EmployerIndustry'] = train['EmployerIndustry'].replace('Military/Security', 'Other')\n",
        "train['EmployerIndustry'] = train['EmployerIndustry'].replace('Hospitality/Entertainment/Sports', 'Other')\n",
        "\n",
        "test['EmployerIndustry'] = test['EmployerIndustry'].replace('Internet-based', 'Technology')\n",
        "test['EmployerIndustry'] = test['EmployerIndustry'].replace('Telecommunications', 'Technology')\n",
        "test['EmployerIndustry'] = test['EmployerIndustry'].replace('Pharmaceutical', 'Other')\n",
        "test['EmployerIndustry'] = test['EmployerIndustry'].replace('Military/Security', 'Other')\n",
        "test['EmployerIndustry'] = test['EmployerIndustry'].replace('Hospitality/Entertainment/Sports', 'Other')\n",
        "\n",
        "\n",
        "trainmean = train[train['CompensationScore']!='na']['CompensationScore'].mean()\n",
        "\n",
        "if trainmean < 3:\n",
        "  train['CompensationScore'] = train['CompensationScore'].replace('na','Low')\n",
        "elif trainmean >= 3 and trainmean < 8:\n",
        "  train['CompensationScore'] = train['CompensationScore'].replace('na','Medium')\n",
        "elif trainmean >= 8:\n",
        "  train['CompensationScore'] = train['CompensationScore'].replace('na','High')\n",
        "\n",
        "train['CompensationScore'] = train['CompensationScore'].replace(0.0,'Low')\n",
        "train['CompensationScore'] = train['CompensationScore'].replace(1.0,'Low')\n",
        "train['CompensationScore'] = train['CompensationScore'].replace(2.0,'Low')\n",
        "train['CompensationScore'] = train['CompensationScore'].replace(3.0,'Medium')\n",
        "train['CompensationScore'] = train['CompensationScore'].replace(4.0,'Medium')\n",
        "train['CompensationScore'] = train['CompensationScore'].replace(5.0,'Medium')\n",
        "train['CompensationScore'] = train['CompensationScore'].replace(6.0,'Medium')\n",
        "train['CompensationScore'] = train['CompensationScore'].replace(7.0,'Medium')\n",
        "train['CompensationScore'] = train['CompensationScore'].replace(8.0,'High')\n",
        "train['CompensationScore'] = train['CompensationScore'].replace(9.0,'High')\n",
        "train['CompensationScore'] = train['CompensationScore'].replace(10.0,'High')\n",
        "\n",
        "testmean = test[test['CompensationScore']!='na']['CompensationScore'].mean() \n",
        "if testmean< 3:\n",
        "  test['CompensationScore'] = test['CompensationScore'].replace('na','Low')\n",
        "elif testmean >= 3 and testmean < 8:\n",
        "  test['CompensationScore'] = test['CompensationScore'].replace('na','Medium')\n",
        "elif testmean >= 8:\n",
        "  test['CompensationScore'] = test['CompensationScore'].replace('na','High')\n",
        "\n",
        "\n",
        "test['CompensationScore'] = test['CompensationScore'].replace(0.0,'Low')\n",
        "test['CompensationScore'] = test['CompensationScore'].replace(1.0,'Low')\n",
        "test['CompensationScore'] = test['CompensationScore'].replace(2.0,'Low')\n",
        "test['CompensationScore'] = test['CompensationScore'].replace(3.0,'Medium')\n",
        "test['CompensationScore'] = test['CompensationScore'].replace(4.0,'Medium')\n",
        "test['CompensationScore'] = test['CompensationScore'].replace(5.0,'Medium')\n",
        "test['CompensationScore'] = test['CompensationScore'].replace(6.0,'Medium')\n",
        "test['CompensationScore'] = test['CompensationScore'].replace(7.0,'Medium')\n",
        "test['CompensationScore'] = test['CompensationScore'].replace(8.0,'High')\n",
        "test['CompensationScore'] = test['CompensationScore'].replace(9.0,'High')\n",
        "test['CompensationScore'] = test['CompensationScore'].replace(10.0,'High')"
      ],
      "execution_count": 10,
      "outputs": []
    },
    {
      "cell_type": "markdown",
      "metadata": {
        "id": "DwYX7KY-jF-t"
      },
      "source": [
        "### CodeWriter Feature Only Consists of \"Yes\""
      ]
    },
    {
      "cell_type": "code",
      "metadata": {
        "id": "494OelY4jF-u"
      },
      "source": [
        "train.drop('CodeWriter',axis='columns', inplace=True)\n",
        "test.drop('CodeWriter',axis='columns', inplace=True)"
      ],
      "execution_count": 11,
      "outputs": []
    },
    {
      "cell_type": "markdown",
      "metadata": {
        "id": "GNzu3cTljF-u"
      },
      "source": [
        "### Helper Functions For Features Extraction"
      ]
    },
    {
      "cell_type": "code",
      "metadata": {
        "id": "aQWWS8UkRFGq"
      },
      "source": [
        "# It returns the first value before \",\" or returns the data itself if there is only one value\n",
        "def takeFirstEmployer(text):\n",
        "  if pd.isnull(text)==False:\n",
        "    index = text.find(',')\n",
        "    if index != -1:\n",
        "        return text[0:index]\n",
        "    else:\n",
        "        return text"
      ],
      "execution_count": 12,
      "outputs": []
    },
    {
      "cell_type": "code",
      "metadata": {
        "id": "7Dybyx_-RFKN"
      },
      "source": [
        "# It returns the amount of data separated by commas\n",
        "def takeAmount(text):\n",
        "  if pd.isnull(text)==False:\n",
        "    amountList = text.split(',')\n",
        "    if amountList == 0:\n",
        "      return 1\n",
        "    else:\n",
        "      return len(amountList)"
      ],
      "execution_count": 13,
      "outputs": []
    },
    {
      "cell_type": "code",
      "metadata": {
        "id": "Ii02YkrPRFLz"
      },
      "source": [
        "train['CurrentEmployerType_Amount'] = train['CurrentEmployerType'].apply(takeAmount)\n",
        "train['PastJobTitlesSelect_Amount'] = train['PastJobTitlesSelect'].apply(takeAmount)\n",
        "train['MLSkillsSelect_Amount'] = train['MLSkillsSelect'].apply(takeAmount)\n",
        "train['MLTechniquesSelect_Amount'] = train['MLTechniquesSelect'].apply(takeAmount)\n",
        "train['WorkAlgorithmsSelect_Amount'] = train['WorkAlgorithmsSelect'].apply(takeAmount)\n",
        "\n",
        "test['CurrentEmployerType_Amount'] = test['CurrentEmployerType'].apply(takeAmount)\n",
        "test['PastJobTitlesSelect_Amount'] = test['PastJobTitlesSelect'].apply(takeAmount)\n",
        "test['MLSkillsSelect_Amount'] = test['MLSkillsSelect'].apply(takeAmount)\n",
        "test['MLTechniquesSelect_Amount'] = test['MLTechniquesSelect'].apply(takeAmount)\n",
        "test['WorkAlgorithmsSelect_Amount'] = test['WorkAlgorithmsSelect'].apply(takeAmount)\n",
        "\n",
        "train['CurrentEmployerType_Amount'] = train['CurrentEmployerType_Amount'].astype('float64')\n",
        "train['PastJobTitlesSelect_Amount'] = train['PastJobTitlesSelect_Amount'].astype('float64')\n",
        "train['MLSkillsSelect_Amount'] = train['MLSkillsSelect_Amount'].astype('float64')\n",
        "train['MLTechniquesSelect_Amount'] = train['MLTechniquesSelect_Amount'].astype('float64')\n",
        "train['WorkAlgorithmsSelect_Amount'] = train['WorkAlgorithmsSelect_Amount'].astype('float64')\n",
        "\n",
        "\n",
        "train['CurrentEmployerType2'] = train['CurrentEmployerType'].apply(takeFirstEmployer)\n",
        "train['MLSkillsSelect2'] = train['MLSkillsSelect'].apply(takeFirstEmployer)\n",
        "train['MLTechniquesSelect2'] = train['MLTechniquesSelect'].apply(takeFirstEmployer)\n",
        "train['WorkAlgorithmsSelect2'] = train['WorkAlgorithmsSelect'].apply(takeFirstEmployer)\n",
        "\n",
        "test['CurrentEmployerType2'] = test['CurrentEmployerType'].apply(takeFirstEmployer)\n",
        "test['MLSkillsSelect2'] = test['MLSkillsSelect'].apply(takeFirstEmployer)\n",
        "test['MLTechniquesSelect2'] = test['MLTechniquesSelect'].apply(takeFirstEmployer)\n",
        "test['WorkAlgorithmsSelect2'] = test['WorkAlgorithmsSelect'].apply(takeFirstEmployer)"
      ],
      "execution_count": 14,
      "outputs": []
    },
    {
      "cell_type": "markdown",
      "metadata": {
        "id": "4tLUM3YjjF-v"
      },
      "source": [
        "### Binning Values of New Features"
      ]
    },
    {
      "cell_type": "code",
      "metadata": {
        "id": "fLxfH5n4jF-v"
      },
      "source": [
        "train['CurrentEmployerType2'] = train['CurrentEmployerType2'].replace('na',train['CurrentEmployerType2'].mode()[0])\n",
        "test['CurrentEmployerType2'] = test['CurrentEmployerType2'].replace('na',test['CurrentEmployerType2'].mode()[0])\n",
        "\n",
        "\n",
        "freq_map8 = {'RNNs': 'Neural Networks',\n",
        "             'GANs' : 'Neural Networks',\n",
        "             'CNNs': 'Neural Networks',\n",
        "             'Random Forests': 'Ensemble Methods',\n",
        "             'Gradient Boosted Machines' : 'Ensemble Methods',\n",
        "             'Evolutionary Approaches': 'Neural Networks',\n",
        "             'SVMs': 'Neural Networks',\n",
        "             'HMMs' : 'Markov',\n",
        "             'Markov Logic Networks': 'Markov'}\n",
        "train['WorkAlgorithmsSelect2'] = train['WorkAlgorithmsSelect2'].replace(freq_map8)\n",
        "test['WorkAlgorithmsSelect2'] = test['WorkAlgorithmsSelect2'].replace(freq_map8)\n",
        "\n",
        "\n",
        "freq_map8 = {'Neural Networks - GANs': 'Neural Networks',\n",
        "             'Neural Networks - RNNs' : 'Neural Networks',\n",
        "             'Neural Networks - CNNs': 'Neural Networks',\n",
        "             'Decision Trees - Random Forests': 'Ensemble Methods',\n",
        "             'Decision Trees - Gradient Boosted Machines' : 'Ensemble Methods',\n",
        "             'Evolutionary Approaches': 'Neural Networks',\n",
        "             'Gradient Boosting':'Ensemble Methods',\n",
        "             'Support Vector Machines (SVMs)': 'Neural Networks',\n",
        "             'Hidden Markov Models HMMs' : 'Markov',\n",
        "             'Markov Logic Networks': 'Markov'}\n",
        "train['MLTechniquesSelect2'] = train['MLTechniquesSelect2'].replace(freq_map8)\n",
        "test['MLTechniquesSelect2'] = test['MLTechniquesSelect2'].replace(freq_map8)\n",
        "\n",
        "\n",
        "freq_map8 = {'Speech Recognition': 'Natural Language Processing',\n",
        "             'Machine Translation' : 'Natural Language Processing',\n",
        "             'Time Series': 'Supervised Machine Learning (Tabular Data)'}\n",
        "train['MLSkillsSelect2'] = train['MLSkillsSelect2'].replace(freq_map8)\n",
        "test['MLSkillsSelect2'] = test['MLSkillsSelect2'].replace(freq_map8)"
      ],
      "execution_count": 15,
      "outputs": []
    },
    {
      "cell_type": "markdown",
      "metadata": {
        "id": "MUQWa4C6jF-v"
      },
      "source": [
        "### New Feature: Continents"
      ]
    },
    {
      "cell_type": "code",
      "metadata": {
        "id": "n6mkNDp-RFUY",
        "scrolled": false
      },
      "source": [
        "!pip install pycountry-convert"
      ],
      "execution_count": null,
      "outputs": []
    },
    {
      "cell_type": "code",
      "metadata": {
        "id": "-lZrYb-BRFWW"
      },
      "source": [
        "import pycountry_convert as pc\n",
        "\n",
        "def countryToContinent(countryname):\n",
        "  if pd.isnull(countryname)==False:\n",
        "    if countryname != 'Other':\n",
        "      country_code = pc.country_name_to_country_alpha2(countryname, cn_name_format=\"default\")\n",
        "      continent_name = pc.country_alpha2_to_continent_code(country_code)\n",
        "      return continent_name\n",
        "    else:\n",
        "      return 'Other'"
      ],
      "execution_count": 17,
      "outputs": []
    },
    {
      "cell_type": "code",
      "metadata": {
        "id": "orM0Kw0ZRFX0"
      },
      "source": [
        "train['Country'] = train['Country'].replace(\"People 's Republic of China\",\"China\")\n",
        "train['Country'] = train['Country'].replace(\"Republic of China\",\"China\")\n",
        "train['Country'] = train['Country'].replace(\"na\",\"Other\")\n",
        "\n",
        "test['Country'] = test['Country'].replace(\"People 's Republic of China\",\"China\")\n",
        "test['Country'] = test['Country'].replace(\"Republic of China\",\"China\")\n",
        "test['Country'] = test['Country'].replace(\"na\",\"Other\")\n",
        "\n",
        "\n",
        "train['Continent'] = train['Country'].apply(countryToContinent)\n",
        "test['Continent'] = test['Country'].apply(countryToContinent)"
      ],
      "execution_count": 19,
      "outputs": []
    },
    {
      "cell_type": "code",
      "metadata": {
        "id": "JbKjG93SRFcu"
      },
      "source": [
        "# To Get The Name of the Categorical Features\n",
        "mycolumns = []\n",
        "for col in list(train.columns):\n",
        "    if train[col].dtypes == 'object':\n",
        "        mycolumns.append(col)"
      ],
      "execution_count": 20,
      "outputs": []
    },
    {
      "cell_type": "markdown",
      "metadata": {
        "id": "oGkyXIu7jF-w"
      },
      "source": [
        "### Generating Dummy Variables For Categorical Features"
      ]
    },
    {
      "cell_type": "markdown",
      "metadata": {
        "id": "00jZkpx9jF-w"
      },
      "source": [
        "**Note:** Some categorical features omitted in this part because they were decided to be dropped"
      ]
    },
    {
      "cell_type": "code",
      "metadata": {
        "id": "F71daeC3RFeW"
      },
      "source": [
        "df_train = train.copy()\n",
        "for col in ['Country',\n",
        "            'GenderSelect',\n",
        "            'CurrentJobTitleSelect',\n",
        "            'LanguageRecommendationSelect',\n",
        "            'DataScienceIdentitySelect',\n",
        "            'FormalEducation',\n",
        "            'MajorSelect',\n",
        "            'CompensationScore',\n",
        "            'WorkInternalVsExternalTools',\n",
        "            'WorkMLTeamSeatSelect',\n",
        "            'CurrentEmployerType2',\n",
        "            'MLSkillsSelect2',\n",
        "            'WorkAlgorithmsSelect2',\n",
        "            'Continent']:\n",
        "    df_train = pd.concat([df_train, pd.get_dummies(train[col], drop_first=True, prefix=col)], axis=1)\n",
        "    df_train = df_train.drop(col,axis='columns')\n",
        "    \n",
        "df_test = test.copy()\n",
        "for col in ['Country',\n",
        "            'GenderSelect',\n",
        "             'CurrentJobTitleSelect',\n",
        "             'LanguageRecommendationSelect',\n",
        "             'DataScienceIdentitySelect',\n",
        "             'FormalEducation',\n",
        "             'MajorSelect',\n",
        "             'CompensationScore',\n",
        "             'WorkInternalVsExternalTools',\n",
        "             'WorkMLTeamSeatSelect',\n",
        "             'CurrentEmployerType2',\n",
        "             'MLSkillsSelect2',\n",
        "             'WorkAlgorithmsSelect2',\n",
        "             'Continent']:\n",
        "    df_test = pd.concat([df_test, pd.get_dummies(test[col], drop_first=True, prefix=col)], axis=1)\n",
        "    df_test = df_test.drop(col,axis='columns')\n",
        "    \n",
        "df_train = df_train.drop(['MLTechniquesSelect2','MLMethodNextYearSelect','MLToolNextYearSelect','EmploymentStatus','EmployerIndustry','CurrentEmployerType','PastJobTitlesSelect','MLSkillsSelect','MLTechniquesSelect','WorkAlgorithmsSelect'], axis='columns')\n",
        "df_test = df_test.drop(['MLTechniquesSelect2','MLMethodNextYearSelect','MLToolNextYearSelect','EmploymentStatus','EmployerIndustry','CurrentEmployerType','PastJobTitlesSelect','MLSkillsSelect','MLTechniquesSelect','WorkAlgorithmsSelect'], axis='columns')\n",
        "\n",
        "df_train = df_train.drop('ID',axis='columns')\n",
        "df_test = df_test.drop('ID',axis='columns')"
      ],
      "execution_count": 21,
      "outputs": []
    },
    {
      "cell_type": "markdown",
      "metadata": {
        "id": "Hqxm3usXjF-w"
      },
      "source": [
        "### Feature Selection with SelectKBest"
      ]
    },
    {
      "cell_type": "markdown",
      "metadata": {
        "id": "-2bmeZDgjF-w"
      },
      "source": [
        "**Important Note:** After we run this part, we analyzed the results and drop some features. Therefore, if you run this part now, it does not show the results we saw during the analysis"
      ]
    },
    {
      "cell_type": "markdown",
      "metadata": {
        "id": "23DPVH63jF-x"
      },
      "source": [
        "**Features dropped after this part:** \n",
        "\n",
        "MLTechniquesSelect2, MLMethodNextYearSelect, MLToolNextYearSelect, EmploymentStatus, EmployerIndustry"
      ]
    },
    {
      "cell_type": "code",
      "metadata": {
        "colab": {
          "base_uri": "https://localhost:8080/"
        },
        "id": "CnO-8vSajF-x",
        "outputId": "73ff90cd-cbe4-48ab-e0cf-d8ffe3deece2"
      },
      "source": [
        "X_train_selection = df_train.drop('JobSatisfaction', axis='columns')\n",
        "y_train_selection = df_train['JobSatisfaction']\n",
        "\n",
        "scaler = MinMaxScaler()\n",
        "X_train_scaled_selection = scaler.fit_transform(X_train_selection)\n",
        "\n",
        "best_features = SelectKBest(score_func=f_regression, k=110)\n",
        "fit = best_features.fit(X_train_scaled_selection,y_train_selection)\n",
        "\n",
        "dfscores = pd.DataFrame(fit.scores_)\n",
        "dfcolumns = pd.DataFrame(X_train_selection.columns)\n",
        "feature_scores = pd.concat([dfcolumns,dfscores],axis=1)\n",
        "feature_scores.columns = ['Features','Scores']\n",
        "print(feature_scores.nlargest(5,'Scores'))"
      ],
      "execution_count": 27,
      "outputs": [
        {
          "output_type": "stream",
          "text": [
            "                           Features      Scores\n",
            "23   WorkChallengeFrequencyPolitics  359.072115\n",
            "1                          TitleFit  198.195929\n",
            "27     WorkChallengeFrequencyTalent  160.148481\n",
            "148                    Continent_AS  122.849584\n",
            "36      WorkAlgorithmsSelect_Amount  114.343117\n"
          ],
          "name": "stdout"
        }
      ]
    },
    {
      "cell_type": "markdown",
      "metadata": {
        "id": "f2i-zPwijF-x"
      },
      "source": [
        "## - Modelling"
      ]
    },
    {
      "cell_type": "code",
      "metadata": {
        "id": "-LW3RbvJRFhp"
      },
      "source": [
        "# Split the train data to X and y\n",
        "X_train = df_train.drop('JobSatisfaction', axis='columns')\n",
        "y_train = df_train['JobSatisfaction']"
      ],
      "execution_count": 28,
      "outputs": []
    },
    {
      "cell_type": "markdown",
      "metadata": {
        "id": "LQN4_HMLjF-x"
      },
      "source": [
        "### Scaling Data with MinMaxScaler"
      ]
    },
    {
      "cell_type": "markdown",
      "metadata": {
        "id": "lpdHB10qjF-x"
      },
      "source": [
        "Default values of MinMaxScaler used"
      ]
    },
    {
      "cell_type": "code",
      "metadata": {
        "id": "TRtKfd2sRuIF"
      },
      "source": [
        "scaler = MinMaxScaler()\n",
        "X_train_scaled = scaler.fit_transform(X_train)\n",
        "X_test_scaled = scaler.transform(df_test)"
      ],
      "execution_count": 29,
      "outputs": []
    },
    {
      "cell_type": "markdown",
      "metadata": {
        "id": "1BUVUxTMRwUL"
      },
      "source": [
        "### Cross Validation"
      ]
    },
    {
      "cell_type": "markdown",
      "metadata": {
        "id": "cps6ZVsijF-y"
      },
      "source": [
        "##### Ridge Regression and Bayesian Regression are the two which has the best performance for this data to predict the Job Satisfaction"
      ]
    },
    {
      "cell_type": "code",
      "metadata": {
        "colab": {
          "base_uri": "https://localhost:8080/"
        },
        "id": "5oXyiyWkRuKK",
        "outputId": "eb191c58-fd98-4eb9-fd99-55afea47ab44"
      },
      "source": [
        "scores = cross_validate(linear_model.Ridge(alpha= 52, solver= 'auto',random_state=1), X_train_scaled, y_train, cv=10,scoring=('neg_root_mean_squared_error'))\n",
        "print('Ridge Regression')\n",
        "print('------------------')\n",
        "print('CV Results: ',scores['test_score'])\n",
        "print('Average of these results: ',scores['test_score'].mean()*(-1))\n",
        "\n",
        "scores = cross_validate(linear_model.BayesianRidge(), X_train_scaled, y_train, cv=10,scoring=('neg_root_mean_squared_error'))\n",
        "print('Bayesian Ridge Regression')\n",
        "print('------------------')\n",
        "print('CV Results: ',scores['test_score'])\n",
        "print('Average of these results: ',scores['test_score'].mean()*(-1))"
      ],
      "execution_count": 33,
      "outputs": [
        {
          "output_type": "stream",
          "text": [
            "Ridge Regression\n",
            "------------------\n",
            "CV Results:  [-1.83250374 -1.89791976 -2.00373736 -1.92638775 -1.81282429 -1.89808257\n",
            " -1.94510872 -1.9745433  -1.99631505 -2.04325614]\n",
            "Average of these results:  1.9330678682744935\n",
            "Bayesian Ridge Regression\n",
            "------------------\n",
            "CV Results:  [-1.83246877 -1.89777159 -2.00354276 -1.9273021  -1.81393476 -1.89863871\n",
            " -1.94533902 -1.97444599 -1.99580171 -2.0431515 ]\n",
            "Average of these results:  1.9332396925750874\n"
          ],
          "name": "stdout"
        }
      ]
    },
    {
      "cell_type": "markdown",
      "metadata": {
        "id": "9ah1j56JR1t_"
      },
      "source": [
        "### HyperParameter Tuning For Ridge Regression"
      ]
    },
    {
      "cell_type": "code",
      "metadata": {
        "colab": {
          "base_uri": "https://localhost:8080/"
        },
        "id": "tswGxf7lRuRh",
        "outputId": "43897eb2-bb67-4304-c557-001436b36842"
      },
      "source": [
        "parambr = {'alpha':list(range(10,80,2)),\n",
        "           'solver':['auto','svd'],\n",
        "           'random_state':[1]}\n",
        "bag_grid = GridSearchCV(estimator = linear_model.Ridge() , param_grid = parambr, cv=10 ,scoring = \"neg_root_mean_squared_error\",n_jobs=-1)\n",
        "bag_grid.fit(X_train_scaled,y_train)\n",
        "print(bag_grid.best_params_)"
      ],
      "execution_count": 32,
      "outputs": [
        {
          "output_type": "stream",
          "text": [
            "{'alpha': 52, 'random_state': 1, 'solver': 'auto'}\n"
          ],
          "name": "stdout"
        }
      ]
    },
    {
      "cell_type": "markdown",
      "metadata": {
        "id": "2tsOUB_XR-Xe"
      },
      "source": [
        "### Exporting Prediction as .csv File For Kaggle Submission"
      ]
    },
    {
      "cell_type": "code",
      "metadata": {
        "id": "4kXVWxKWRuc8"
      },
      "source": [
        "ridge = linear_model.Ridge(alpha= 52, solver= 'auto',random_state=1)\n",
        "ridge.fit(X_train_scaled,y_train)\n",
        "y_pred = ridge.predict(X_test_scaled)"
      ],
      "execution_count": null,
      "outputs": []
    },
    {
      "cell_type": "code",
      "metadata": {
        "id": "_37UQrBZRufH"
      },
      "source": [
        "submission = pd.DataFrame(y_pred)\n",
        "submission.rename(columns={0: \"Prediction\"}, inplace = True)\n",
        "submission['ID'] = list(range(1,1001))\n",
        "submission = submission[['ID', 'Prediction']]\n",
        "submission.to_csv('PredictingJobSatisfaction_Submission.csv', index=False)"
      ],
      "execution_count": null,
      "outputs": []
    }
  ]
}